{
 "cells": [
  {
   "cell_type": "code",
   "execution_count": 1,
   "id": "2ab8a0e7",
   "metadata": {},
   "outputs": [
    {
     "data": {
      "text/html": [
       "<style>.container { width:90% !important; }</style>"
      ],
      "text/plain": [
       "<IPython.core.display.HTML object>"
      ]
     },
     "metadata": {},
     "output_type": "display_data"
    }
   ],
   "source": [
    "# Standard improts\n",
    "import sqlite3\n",
    "import pandas as pd\n",
    "import matplotlib.pyplot as plt\n",
    "from datetime import datetime\n",
    "from ipywidgets import widgets\n",
    "from ipywidgets import interact, interactive, fixed, interact_manual\n",
    "import numpy as np\n",
    "\n",
    "# Setting width of jupyter NB\n",
    "from IPython.display import display, HTML\n",
    "display(HTML(\"<style>.container { width:90% !important; }</style>\"))"
   ]
  },
  {
   "cell_type": "markdown",
   "id": "bfbb4756",
   "metadata": {},
   "source": [
    "### DATA Function"
   ]
  },
  {
   "cell_type": "code",
   "execution_count": 2,
   "id": "c579cef1",
   "metadata": {},
   "outputs": [],
   "source": [
    "def getDBData(wellName = None, df_type = \"perf\"):\n",
    "    '''\n",
    "        df_type > \"perf\" as perforations, \"prod\" as production for wellName, wells, as all wells from database\n",
    "    '''\n",
    "    \n",
    "    # SQLITE CONNECTION\n",
    "    conn = sqlite3.connect(r'DB\\PerforationProductionDB.sqlite')\n",
    "    cursor  = conn.cursor()\n",
    "    \n",
    "    # PERFORATIONS QUERY\n",
    "    if df_type == \"perf\" and wellName != None:\n",
    "        SQL_PERF  = f'''SELECT WELLS.WELL, WELLS.ALIAS, PERFORATION.Open_Interval_Top, PERFORATION.Open_Interval_Bottom, PERFORATION.WO_date_Start, PERFORATION.WO_date_End, WELLS.Top_Of_Reservoir_m\n",
    "              FROM WELLS INNER JOIN PERFORATION ON WELLS.ID = PERFORATION.fk_Well \n",
    "              WHERE (WELLS.WELL='{wellName}')'''\n",
    "        df_perf = pd.read_sql(SQL_PERF, conn)\n",
    "        \n",
    "        df_perf[\"WO_date_Start\"] = pd.to_datetime(df_perf[\"WO_date_Start\"], format=\"%d/%m/%Y\")\n",
    "        df_perf[\"WO_date_End\"] = pd.to_datetime(df_perf[\"WO_date_End\"], format=\"%d/%m/%Y\")\n",
    "        \n",
    "        df_perf.sort_values([\"WO_date_End\", \"Open_Interval_Top\"], inplace = True)\n",
    "        \n",
    "        conn.close()\n",
    "        return df_perf\n",
    "    # PRODUCTION QUERY\n",
    "    elif df_type == \"prod\" and wellName != None:\n",
    "        SQL_PROD = f'''SELECT PRODUCTION.DATE_LAST, PRODUCTION.OIL, PRODUCTION.WATER, PRODUCTION.GAS\n",
    "              FROM PRODUCTION INNER JOIN WELLS ON WELLS.ID=PRODUCTION.fk_Well\n",
    "              WHERE (WELLS.WELL='{wellName}')'''\n",
    "        \n",
    "        df_prod = pd.read_sql(SQL_PROD, conn)\n",
    "        conn.close()\n",
    "\n",
    "        df_prod[\"OIL\"].fillna(0, inplace=True)\n",
    "        df_prod[\"WATER\"].fillna(0,inplace=True)\n",
    "        df_prod[\"GAS\"].fillna(0,inplace=True)\n",
    "        df_prod[\"DATE_LAST\"] = pd.to_datetime(df_prod[\"DATE_LAST\"], format=\"%d/%m/%Y\")\n",
    "        df_prod.sort_values(\"DATE_LAST\", inplace=True)\n",
    "    #\n",
    "        df_prod[\"OIL\"] = df_prod[\"OIL\"]/30\n",
    "        df_prod[\"WATER\"] = df_prod[\"WATER\"]/30\n",
    "        df_prod[\"GAS\"] = df_prod[\"GAS\"]/30\n",
    "        return df_prod\n",
    "    \n",
    "    # WELL LIST QUERY\n",
    "    elif df_type == \"wells\" and wellName == None:\n",
    "        SQL_WELLS = \"SELECT WELLS.WELL FROM WELLS\"\n",
    "        pd_wells = pd.read_sql(SQL_WELLS,conn)\n",
    "        conn.close()\n",
    "        return pd_wells[\"WELL\"].unique()\n",
    "    \n",
    "    else:\n",
    "        print('Dataframe type not dedfined as \"perf\" or \"prod\"')\n",
    "        return 0     \n",
    "    "
   ]
  },
  {
   "cell_type": "markdown",
   "id": "22e2955b",
   "metadata": {},
   "source": [
    "## Charting Function"
   ]
  },
  {
   "cell_type": "code",
   "execution_count": 3,
   "id": "51d83df2",
   "metadata": {},
   "outputs": [],
   "source": [
    "def plotChart(WellName, df_perf, df_prod):\n",
    "    \n",
    "    # 5 subplots with shared X axis\n",
    "    fig, ax = plt.subplots(nrows=5, ncols=1, sharex='all')\n",
    "    today =np.datetime64(datetime.today())\n",
    "\n",
    "    # PLOTTING TOP OF RESERVOIR FOR WELL\n",
    "    lineX=[df_perf[\"WO_date_Start\"].min(),today]\n",
    "    lineY=[df_perf[\"Top_Of_Reservoir_m\"].unique(),df_perf[\"Top_Of_Reservoir_m\"].unique()]\n",
    "\n",
    "    # Dates of END_of_WO converted to list -> sorted\n",
    "    listWOEndDates = df_perf[\"WO_date_End\"].unique()\n",
    "    lastListIndex = len(listWOEndDates) - 1\n",
    "\n",
    "\n",
    "    # PLOT EACH PERFORATION FROM DATAFRAME.\n",
    "    for a in df_perf.itertuples():\n",
    "        minX = a[6]\n",
    "    \n",
    "        if np.where(listWOEndDates == minX)[0][0] == lastListIndex:\n",
    "            maxX = today\n",
    "        else:\n",
    "            maxX = listWOEndDates[np.where(listWOEndDates == minX)[0]+1]\n",
    "            maxX = maxX[0]\n",
    "        \n",
    "        ax[0].fill([minX,maxX,maxX,minX],[a[4],a[4],a[3],a[3]], label=(str(a[4])+\" - \"+str(a[3])))\n",
    "        ax[1].fill([minX,maxX,maxX,minX],[a[4],a[4],a[3],a[3]], label=(str(a[4])+\" - \"+str(a[3])))\n",
    "        ax[2].fill([minX,maxX,maxX,minX],[a[4],a[4],a[3],a[3]], label=(str(a[4])+\" - \"+str(a[3])))\n",
    "    \n",
    "        ax[0].plot([minX,maxX,maxX,minX, minX, minX],[a[4],a[4],a[3],a[3],a[3],a[4]],linewidth=0.95, linestyle='-', color='black')\n",
    "        ax[1].plot([minX,maxX,maxX,minX, minX, minX],[a[4],a[4],a[3],a[3],a[3],a[4]],linewidth=0.95, linestyle='-', color='black')\n",
    "        ax[2].plot([minX,maxX,maxX,minX, minX, minX],[a[4],a[4],a[3],a[3],a[3],a[4]],linewidth=0.95, linestyle='-', color='black')\n",
    "    \n",
    "    # TOP OF THE RESERVOIR LINE\n",
    "    ax[0].plot(lineX, lineY, color=\"black\", label=\"Top of Reservoir\", linewidth=3, linestyle='--')\n",
    "    ax[1].plot(lineX, lineY, color=\"black\", label=\"Top of Reservoir\", linewidth=3, linestyle='--')\n",
    "    ax[2].plot(lineX, lineY, color=\"black\", label=\"Top of Reservoir\", linewidth=3, linestyle='--')\n",
    "    \n",
    "    #SECONDARY AXIS - WATER\n",
    "    ax2_0 = ax[0].twinx()\n",
    "    ax2_0.scatter(df_prod[\"DATE_LAST\"], df_prod[\"WATER\"], color = \"blue\", label=\"WATER SCM/DAY\", alpha=0.5, edgecolors='black', linewidths=1, s=50)\n",
    "    ax2_0.set_ylabel(\"WATER - Avg. 30 days SCM/day\")\n",
    "    \n",
    "    #SECONDARY AXIS - OIL\n",
    "    ax2_1 = ax[1].twinx()\n",
    "    ax2_1.scatter(df_prod[\"DATE_LAST\"], df_prod[\"OIL\"], color = \"green\", label=\"OIL SCM/DAY\", alpha=0.5, edgecolors='black', linewidths=1, s=50)\n",
    "    ax2_1.set_ylabel(\"OIL - Avg. 30 days SCM/day\")\n",
    "    \n",
    "    #SECONDARY AXIS - GAS\n",
    "    ax2_2 = ax[2].twinx()\n",
    "    ax2_2.scatter(df_prod[\"DATE_LAST\"], df_prod[\"GAS\"], color = \"orange\", label=\"GAS SCM/DAY\", alpha=0.5, edgecolors='black', linewidths=1, s=50)\n",
    "    ax2_2.set_ylabel(\"GAS - Avg. 30 days SCM/day\")\n",
    "\n",
    "    #WATERCUT\n",
    "    ax[3].scatter(df_prod[\"DATE_LAST\"], (df_prod[\"WATER\"]/( df_prod[\"WATER\"]+ df_prod[\"OIL\"])),edgecolors='black', linewidths=1, s=50, color = \"blue\", label=\"WCUT SCM/SCM\")\n",
    "\n",
    "    #GOR\n",
    "    ax[4].scatter(df_prod[\"DATE_LAST\"], (df_prod[\"GAS\"]/df_prod[\"OIL\"]),edgecolors='black', linewidths=1, s=50, color = \"red\", label=\"GOR SCM/SCM\")\n",
    "\n",
    "    #LABLES ETC...\n",
    "    ax[0].set_ylabel(\"Depth\")\n",
    "    ax[0].set_xlabel(\"Date\")\n",
    "    ax[0].set_title(\"PERFORATIONS VS TIME & WATER PRODUCTION\"+ \" - \" + WellName )\n",
    "    ax[0].invert_yaxis()\n",
    "\n",
    "    ax[1].set_ylabel(\"Depth\")\n",
    "    ax[1].set_xlabel(\"Date\")\n",
    "    ax[1].set_title(\"OIL PRODUCTION\"+ \" - \" + WellName )\n",
    "    ax[1].legend()\n",
    "    ax[1].invert_yaxis()\n",
    "\n",
    "    ax[2].set_ylabel(\"Depth\")\n",
    "    ax[2].set_xlabel(\"Date\")\n",
    "    ax[2].set_title(\"GAS PRODUCTION\" + \" - \" + WellName )\n",
    "    ax[2].legend()\n",
    "    ax[2].invert_yaxis()\n",
    "\n",
    "    ax[3].set_ylabel(\"WATERCUT SCM/SCM\")\n",
    "    ax[3].set_xlabel(\"Date\")\n",
    "    ax[3].set_title(\"WATERCUT\"+ \" - \" + WellName )\n",
    "    ax[3].legend()\n",
    "\n",
    "    ax[4].set_ylabel(\"GOR SCM/SCM\")\n",
    "    ax[4].set_xlabel(\"Date\")\n",
    "    ax[4].set_title(\"GOR\"+ \" - \" + WellName )\n",
    "    ax[4].legend()\n",
    "\n",
    "\n",
    "    # LEGENDS TO THE RIGHT AND CENTER + TICKS\n",
    "    #axCount = 0\n",
    "    for a in ax:\n",
    "        \n",
    "        a.tick_params(axis='x', which='both', labelbottom=True)\n",
    "        a.grid(visible=True, linestyle = '--', color='gray', linewidth=0.4)\n",
    "        theBox = a.get_position()\n",
    "        a.set_position([theBox.x0, theBox.y0, theBox.width*0.8, theBox.height])\n",
    "        a.legend(loc='center left', bbox_to_anchor=(1.05,0.5))\n",
    "\n",
    "\n",
    "        #axCount = axCount+1\n",
    "\n",
    "\n",
    "    fig.set_figheight(15)\n",
    "    fig.set_figwidth(25)\n",
    "\n",
    "    plt.tight_layout()\n",
    "    \n",
    "    plt.show()\n",
    "    "
   ]
  },
  {
   "cell_type": "code",
   "execution_count": 4,
   "id": "82d180d4",
   "metadata": {
    "scrolled": false
   },
   "outputs": [
    {
     "data": {
      "application/vnd.jupyter.widget-view+json": {
       "model_id": "0b9b4bd60433405086e246890002f6c9",
       "version_major": 2,
       "version_minor": 0
      },
      "text/plain": [
       "interactive(children=(Dropdown(description='Select a well:', options=('XY-3', 'XY-4', 'XY-5', 'XY-6AL', 'XY-7'…"
      ]
     },
     "metadata": {},
     "output_type": "display_data"
    },
    {
     "data": {
      "text/plain": [
       "<function __main__.doPloting(well)>"
      ]
     },
     "execution_count": 4,
     "metadata": {},
     "output_type": "execute_result"
    }
   ],
   "source": [
    "df_wells = getDBData(df_type=\"wells\")\n",
    "\n",
    "def doPloting(well):\n",
    "        df_perf = getDBData(well, \"perf\")\n",
    "        df_prod = getDBData(well, \"prod\")\n",
    "        plotChart(well, df_perf, df_prod)\n",
    "        \n",
    "interact(doPloting, well = widgets.Dropdown(options = df_wells, description = \"Select a well:\"))\n",
    "\n"
   ]
  }
 ],
 "metadata": {
  "kernelspec": {
   "display_name": "Python 3 (ipykernel)",
   "language": "python",
   "name": "python3"
  },
  "language_info": {
   "codemirror_mode": {
    "name": "ipython",
    "version": 3
   },
   "file_extension": ".py",
   "mimetype": "text/x-python",
   "name": "python",
   "nbconvert_exporter": "python",
   "pygments_lexer": "ipython3",
   "version": "3.11.4"
  }
 },
 "nbformat": 4,
 "nbformat_minor": 5
}
